{
 "cells": [
  {
   "cell_type": "code",
   "execution_count": 1,
   "id": "779ffd38",
   "metadata": {
    "execution": {
     "iopub.execute_input": "2024-05-02T01:37:46.655364Z",
     "iopub.status.busy": "2024-05-02T01:37:46.654765Z",
     "iopub.status.idle": "2024-05-02T01:37:50.208082Z",
     "shell.execute_reply": "2024-05-02T01:37:50.206947Z"
    },
    "papermill": {
     "duration": 3.561051,
     "end_time": "2024-05-02T01:37:50.210400",
     "exception": false,
     "start_time": "2024-05-02T01:37:46.649349",
     "status": "completed"
    },
    "tags": []
   },
   "outputs": [
    {
     "data": {
      "text/plain": [
       "<torch._C.Generator at 0x7ce96f1bb090>"
      ]
     },
     "execution_count": 1,
     "metadata": {},
     "output_type": "execute_result"
    }
   ],
   "source": [
    "import torch\n",
    "import torch.nn as nn\n",
    "import torch.nn.functional as F\n",
    "import torch.optim as optim\n",
    "\n",
    "torch.manual_seed(1)"
   ]
  },
  {
   "cell_type": "code",
   "execution_count": 2,
   "id": "6e1b8dc0",
   "metadata": {
    "execution": {
     "iopub.execute_input": "2024-05-02T01:37:50.219144Z",
     "iopub.status.busy": "2024-05-02T01:37:50.218343Z",
     "iopub.status.idle": "2024-05-02T01:37:50.356611Z",
     "shell.execute_reply": "2024-05-02T01:37:50.355512Z"
    },
    "papermill": {
     "duration": 0.144962,
     "end_time": "2024-05-02T01:37:50.358800",
     "exception": false,
     "start_time": "2024-05-02T01:37:50.213838",
     "status": "completed"
    },
    "tags": []
   },
   "outputs": [
    {
     "name": "stdout",
     "output_type": "stream",
     "text": [
      "tensor([[ 0.6614,  0.2669,  0.0617,  0.6213, -0.4519]],\n",
      "       grad_fn=<EmbeddingBackward0>)\n"
     ]
    }
   ],
   "source": [
    "word_to_ix = {\"hello\": 0, \"world\": 1}\n",
    "embeds = nn.Embedding(2, 5)  # 2 words in vocab, 5 dimensional embeddings\n",
    "lookup_tensor = torch.tensor([word_to_ix[\"hello\"]], dtype=torch.long)\n",
    "hello_embed = embeds(lookup_tensor)\n",
    "print(hello_embed)"
   ]
  },
  {
   "cell_type": "code",
   "execution_count": 3,
   "id": "03368c8a",
   "metadata": {
    "execution": {
     "iopub.execute_input": "2024-05-02T01:37:50.367548Z",
     "iopub.status.busy": "2024-05-02T01:37:50.366924Z",
     "iopub.status.idle": "2024-05-02T01:37:50.373633Z",
     "shell.execute_reply": "2024-05-02T01:37:50.372755Z"
    },
    "papermill": {
     "duration": 0.013785,
     "end_time": "2024-05-02T01:37:50.376002",
     "exception": false,
     "start_time": "2024-05-02T01:37:50.362217",
     "status": "completed"
    },
    "tags": []
   },
   "outputs": [],
   "source": [
    "CONTEXT_SIZE = 2  # 2 words to the left, 2 to the right\n",
    "EMBEDDING_DIM = 10\n",
    "raw_text = \"\"\"Prince Hamlet of Denmark is the son of the recently deceased King Hamlet, \n",
    "and nephew of King Claudius, his father's brother and successor. Claudius hastily married\n",
    " King Hamlet's widow, Gertrude, Hamlet's mother, and took the throne for himself. Denmark \n",
    " has a long-standing feud with neighbouring Norway, in which King Hamlet slew King Fortinbras \n",
    " of Norway in a battle some years ago. Although Denmark defeated Norway and the Norwegian \n",
    " throne fell to King Fortinbras's infirm brother, Denmark fears that an invasion led by the \n",
    " dead Norwegian king's son, Prince Fortinbras, is imminent.\n",
    "On a cold night on the ramparts of Elsinore, the Danish royal castle, the sentries Bernardo \n",
    "and Marcellus discuss a ghost resembling the late King Hamlet which they have recently seen, \n",
    "and bring Prince Hamlet's friend Horatio as a witness. After the ghost appears again, the \n",
    "three vow to tell Prince Hamlet what they have witnessed.\n",
    "The court gathers the next day, and King Claudius and Queen Gertrude discuss affairs of \n",
    "state with their elderly adviser Polonius. Claudius grants permission for Polonius's son \n",
    "Laertes to return to school in France, and he sends envoys to inform the King of Norway \n",
    "about Fortinbras. Claudius also questions Hamlet regarding his continuing to grieve for \n",
    "his father, and forbids him to return to his university in Wittenberg. After the court \n",
    "exits, Hamlet despairs of his father's death and his mother's hasty remarriage. Learning \n",
    "of the ghost from Horatio, Hamlet resolves to see it himself.\n",
    "As Polonius's son Laertes prepares to depart for France, Polonius offers him advice that \n",
    "culminates in the maxim \"to thine own self be true.\"[6] Polonius's daughter, Ophelia, \n",
    "admits her interest in Hamlet, but Laertes warns her against seeking the prince's attention, \n",
    "and Polonius orders her to reject his advances. That night on the rampart, the ghost appears \n",
    "to Hamlet, tells the prince that he was poisoned by Claudius, and demands that Hamlet avenge \n",
    "the murder. Hamlet agrees, and the ghost vanishes. The prince confides to Horatio and the \n",
    "sentries that from now on he plans to \"put an antic disposition on\", or act as though he \n",
    "has gone mad. Hamlet forces them to swear to keep his plans for revenge secret; however, \n",
    "he remains uncertain of the ghost's reliability.\"\"\".split()"
   ]
  },
  {
   "cell_type": "code",
   "execution_count": 4,
   "id": "f51b1279",
   "metadata": {
    "execution": {
     "iopub.execute_input": "2024-05-02T01:37:50.384361Z",
     "iopub.status.busy": "2024-05-02T01:37:50.383776Z",
     "iopub.status.idle": "2024-05-02T01:37:50.389632Z",
     "shell.execute_reply": "2024-05-02T01:37:50.388734Z"
    },
    "papermill": {
     "duration": 0.012604,
     "end_time": "2024-05-02T01:37:50.391859",
     "exception": false,
     "start_time": "2024-05-02T01:37:50.379255",
     "status": "completed"
    },
    "tags": []
   },
   "outputs": [],
   "source": [
    "# By deriving a set from `raw_text`, we deduplicate the array\n",
    "vocab = set(raw_text)\n",
    "vocab_size = len(vocab)\n",
    "\n",
    "word_to_ix = {word: i for i, word in enumerate(vocab)}\n",
    "ix_to_word = {i: word for i, word in enumerate(vocab)}"
   ]
  },
  {
   "cell_type": "code",
   "execution_count": 5,
   "id": "d0016269",
   "metadata": {
    "execution": {
     "iopub.execute_input": "2024-05-02T01:37:50.400238Z",
     "iopub.status.busy": "2024-05-02T01:37:50.399667Z",
     "iopub.status.idle": "2024-05-02T01:37:50.407660Z",
     "shell.execute_reply": "2024-05-02T01:37:50.406526Z"
    },
    "papermill": {
     "duration": 0.014837,
     "end_time": "2024-05-02T01:37:50.410055",
     "exception": false,
     "start_time": "2024-05-02T01:37:50.395218",
     "status": "completed"
    },
    "tags": []
   },
   "outputs": [
    {
     "name": "stdout",
     "output_type": "stream",
     "text": [
      "[(['Hamlet', 'Prince', 'Denmark', 'is'], 'of'), (['of', 'Hamlet', 'is', 'the'], 'Denmark'), (['Denmark', 'of', 'the', 'son'], 'is'), (['is', 'Denmark', 'son', 'of'], 'the'), (['the', 'is', 'of', 'the'], 'son')]\n"
     ]
    }
   ],
   "source": [
    "data = []\n",
    "for i in range(CONTEXT_SIZE, len(raw_text) - CONTEXT_SIZE):\n",
    "    context = (\n",
    "        [raw_text[i - j - 1] for j in range(CONTEXT_SIZE)]\n",
    "        + [raw_text[i + j + 1] for j in range(CONTEXT_SIZE)]\n",
    "    )\n",
    "    target = raw_text[i]\n",
    "    data.append((context, target))\n",
    "print(data[:5])\n"
   ]
  },
  {
   "cell_type": "code",
   "execution_count": 6,
   "id": "62c5d9ac",
   "metadata": {
    "execution": {
     "iopub.execute_input": "2024-05-02T01:37:50.418601Z",
     "iopub.status.busy": "2024-05-02T01:37:50.418204Z",
     "iopub.status.idle": "2024-05-02T01:37:50.425799Z",
     "shell.execute_reply": "2024-05-02T01:37:50.425034Z"
    },
    "papermill": {
     "duration": 0.014296,
     "end_time": "2024-05-02T01:37:50.427793",
     "exception": false,
     "start_time": "2024-05-02T01:37:50.413497",
     "status": "completed"
    },
    "tags": []
   },
   "outputs": [],
   "source": [
    "class CBOW(nn.Module):\n",
    "\n",
    "    def __init__(self,vocab_size, embedding_dim):\n",
    "        super(CBOW, self).__init__()\n",
    "        # output : 1 x embedding_dim\n",
    "        self.embed = nn.Embedding(vocab_size, embedding_dim,padding_idx=0)\n",
    "        self.fc1 = nn.Linear(embedding_dim, 128)\n",
    "        self.activation1 = nn.ReLU()\n",
    "\n",
    "        #output : 1 x vocab_size\n",
    "        self.fc2 = nn.Linear(128, vocab_size)\n",
    "        self.activation2 = nn.LogSoftmax(dim = -1)\n",
    "\n",
    "    def forward(self, inputs):\n",
    "        x = sum(self.embed(inputs)).view(1,-1)\n",
    "        x = self.fc1(x)\n",
    "        x = self.activation1(x)\n",
    "        x = self.fc2(x)\n",
    "        x = self.activation2(x)\n",
    "        return x\n",
    "    \n",
    "    def get_word_embedding(self, word):\n",
    "        word = torch.tensor([word_to_ix[word]], dtype=torch.long)\n",
    "        return self.embed(word).view(1,-1)"
   ]
  },
  {
   "cell_type": "code",
   "execution_count": 7,
   "id": "4655c63f",
   "metadata": {
    "execution": {
     "iopub.execute_input": "2024-05-02T01:37:50.436692Z",
     "iopub.status.busy": "2024-05-02T01:37:50.435652Z",
     "iopub.status.idle": "2024-05-02T01:37:50.441253Z",
     "shell.execute_reply": "2024-05-02T01:37:50.440015Z"
    },
    "papermill": {
     "duration": 0.012683,
     "end_time": "2024-05-02T01:37:50.443748",
     "exception": false,
     "start_time": "2024-05-02T01:37:50.431065",
     "status": "completed"
    },
    "tags": []
   },
   "outputs": [],
   "source": [
    "def make_context_vector(context, word_to_ix):\n",
    "    idxs = [word_to_ix[w] for w in context]\n",
    "    return torch.tensor(idxs, dtype=torch.long)"
   ]
  },
  {
   "cell_type": "code",
   "execution_count": 8,
   "id": "93c16965",
   "metadata": {
    "execution": {
     "iopub.execute_input": "2024-05-02T01:37:50.452030Z",
     "iopub.status.busy": "2024-05-02T01:37:50.451648Z",
     "iopub.status.idle": "2024-05-02T01:40:29.355495Z",
     "shell.execute_reply": "2024-05-02T01:40:29.354213Z"
    },
    "papermill": {
     "duration": 158.914001,
     "end_time": "2024-05-02T01:40:29.361000",
     "exception": false,
     "start_time": "2024-05-02T01:37:50.446999",
     "status": "completed"
    },
    "tags": []
   },
   "outputs": [
    {
     "name": "stdout",
     "output_type": "stream",
     "text": [
      " 0-th epoch's loss is 2017.4041748046875\n",
      " 100-th epoch's loss is 478.4582824707031\n",
      " 200-th epoch's loss is 111.26284790039062\n",
      " 300-th epoch's loss is 33.59030532836914\n",
      " 400-th epoch's loss is 14.087678909301758\n",
      " 500-th epoch's loss is 7.677165508270264\n",
      " 600-th epoch's loss is 4.857917785644531\n",
      " 700-th epoch's loss is 3.366039514541626\n",
      " 800-th epoch's loss is 2.475390911102295\n",
      " 900-th epoch's loss is 1.8973357677459717\n",
      "text ['Prince', 'Hamlet', 'of', 'Denmark', 'is', 'the', 'son', 'of', 'the', 'recently', 'deceased', 'King', 'Hamlet,', 'and', 'nephew', 'of', 'King', 'Claudius,', 'his', \"father's\", 'brother', 'and', 'successor.', 'Claudius', 'hastily', 'married', 'King', \"Hamlet's\", 'widow,', 'Gertrude,', \"Hamlet's\", 'mother,', 'and', 'took', 'the', 'throne', 'for', 'himself.', 'Denmark', 'has', 'a', 'long-standing', 'feud', 'with', 'neighbouring', 'Norway,', 'in', 'which', 'King', 'Hamlet', 'slew', 'King', 'Fortinbras', 'of', 'Norway', 'in', 'a', 'battle', 'some', 'years', 'ago.', 'Although', 'Denmark', 'defeated', 'Norway', 'and', 'the', 'Norwegian', 'throne', 'fell', 'to', 'King', \"Fortinbras's\", 'infirm', 'brother,', 'Denmark', 'fears', 'that', 'an', 'invasion', 'led', 'by', 'the', 'dead', 'Norwegian', \"king's\", 'son,', 'Prince', 'Fortinbras,', 'is', 'imminent.', 'On', 'a', 'cold', 'night', 'on', 'the', 'ramparts', 'of', 'Elsinore,', 'the', 'Danish', 'royal', 'castle,', 'the', 'sentries', 'Bernardo', 'and', 'Marcellus', 'discuss', 'a', 'ghost', 'resembling', 'the', 'late', 'King', 'Hamlet', 'which', 'they', 'have', 'recently', 'seen,', 'and', 'bring', 'Prince', \"Hamlet's\", 'friend', 'Horatio', 'as', 'a', 'witness.', 'After', 'the', 'ghost', 'appears', 'again,', 'the', 'three', 'vow', 'to', 'tell', 'Prince', 'Hamlet', 'what', 'they', 'have', 'witnessed.', 'The', 'court', 'gathers', 'the', 'next', 'day,', 'and', 'King', 'Claudius', 'and', 'Queen', 'Gertrude', 'discuss', 'affairs', 'of', 'state', 'with', 'their', 'elderly', 'adviser', 'Polonius.', 'Claudius', 'grants', 'permission', 'for', \"Polonius's\", 'son', 'Laertes', 'to', 'return', 'to', 'school', 'in', 'France,', 'and', 'he', 'sends', 'envoys', 'to', 'inform', 'the', 'King', 'of', 'Norway', 'about', 'Fortinbras.', 'Claudius', 'also', 'questions', 'Hamlet', 'regarding', 'his', 'continuing', 'to', 'grieve', 'for', 'his', 'father,', 'and', 'forbids', 'him', 'to', 'return', 'to', 'his', 'university', 'in', 'Wittenberg.', 'After', 'the', 'court', 'exits,', 'Hamlet', 'despairs', 'of', 'his', \"father's\", 'death', 'and', 'his', \"mother's\", 'hasty', 'remarriage.', 'Learning', 'of', 'the', 'ghost', 'from', 'Horatio,', 'Hamlet', 'resolves', 'to', 'see', 'it', 'himself.', 'As', \"Polonius's\", 'son', 'Laertes', 'prepares', 'to', 'depart', 'for', 'France,', 'Polonius', 'offers', 'him', 'advice', 'that', 'culminates', 'in', 'the', 'maxim', '\"to', 'thine', 'own', 'self', 'be', 'true.\"[6]', \"Polonius's\", 'daughter,', 'Ophelia,', 'admits', 'her', 'interest', 'in', 'Hamlet,', 'but', 'Laertes', 'warns', 'her', 'against', 'seeking', 'the', \"prince's\", 'attention,', 'and', 'Polonius', 'orders', 'her', 'to', 'reject', 'his', 'advances.', 'That', 'night', 'on', 'the', 'rampart,', 'the', 'ghost', 'appears', 'to', 'Hamlet,', 'tells', 'the', 'prince', 'that', 'he', 'was', 'poisoned', 'by', 'Claudius,', 'and', 'demands', 'that', 'Hamlet', 'avenge', 'the', 'murder.', 'Hamlet', 'agrees,', 'and', 'the', 'ghost', 'vanishes.', 'The', 'prince', 'confides', 'to', 'Horatio', 'and', 'the', 'sentries', 'that', 'from', 'now', 'on', 'he', 'plans', 'to', '\"put', 'an', 'antic', 'disposition', 'on\",', 'or', 'act', 'as', 'though', 'he', 'has', 'gone', 'mad.', 'Hamlet', 'forces', 'them', 'to', 'swear', 'to', 'keep', 'his', 'plans', 'for', 'revenge', 'secret;', 'however,', 'he', 'remains', 'uncertain', 'of', 'the', \"ghost's\", 'reliability.']\n",
      "context ['late', 'King', 'which', 'they']\n",
      "prediction : \"Hamlet\"\n"
     ]
    }
   ],
   "source": [
    "make_context_vector(data[0][0], word_to_ix)  # example\n",
    "\n",
    "model = CBOW(vocab_size, EMBEDDING_DIM)\n",
    "\n",
    "loss_fn = nn.NLLLoss()\n",
    "optim = torch.optim.Adam(model.parameters(), lr=0.001)\n",
    "\n",
    "for epoch in range(1000):\n",
    "    total_loss = 0\n",
    "    for context, target in data:\n",
    "        context_idxs = make_context_vector(context, word_to_ix)\n",
    "        # model.zero_grad()\n",
    "        log_probs = model(context_idxs)\n",
    "        loss = loss_fn(log_probs, torch.tensor([word_to_ix[target]], dtype=torch.long))\n",
    "        total_loss += loss\n",
    "    if epoch%100==0:\n",
    "        print(f' {epoch}-th epoch\\'s loss is {total_loss.item()}')\n",
    "              \n",
    "    optim.zero_grad()\n",
    "    total_loss.backward()\n",
    "    optim.step()\n",
    "\n",
    "context = ['late', 'King',  'which', 'they']\n",
    "context_idxs = make_context_vector(context, word_to_ix)\n",
    "a = model(context_idxs)\n",
    "\n",
    "print(f'text {raw_text}')\n",
    "print(f'context {context}')\n",
    "print(f'prediction : \"{ix_to_word[torch.argmax(a).item()]}\"')\n"
   ]
  }
 ],
 "metadata": {
  "kaggle": {
   "accelerator": "none",
   "dataSources": [],
   "dockerImageVersionId": 30698,
   "isGpuEnabled": false,
   "isInternetEnabled": true,
   "language": "python",
   "sourceType": "notebook"
  },
  "kernelspec": {
   "display_name": "Python 3",
   "language": "python",
   "name": "python3"
  },
  "language_info": {
   "codemirror_mode": {
    "name": "ipython",
    "version": 3
   },
   "file_extension": ".py",
   "mimetype": "text/x-python",
   "name": "python",
   "nbconvert_exporter": "python",
   "pygments_lexer": "ipython3",
   "version": "3.10.13"
  },
  "papermill": {
   "default_parameters": {},
   "duration": 166.676282,
   "end_time": "2024-05-02T01:40:30.488884",
   "environment_variables": {},
   "exception": null,
   "input_path": "__notebook__.ipynb",
   "output_path": "__notebook__.ipynb",
   "parameters": {},
   "start_time": "2024-05-02T01:37:43.812602",
   "version": "2.5.0"
  }
 },
 "nbformat": 4,
 "nbformat_minor": 5
}
